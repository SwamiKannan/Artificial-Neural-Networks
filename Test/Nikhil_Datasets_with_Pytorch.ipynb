{
 "cells": [
  {
   "cell_type": "code",
   "execution_count": 16,
   "id": "c0b817fb",
   "metadata": {},
   "outputs": [],
   "source": [
    "import numpy as np\n",
    "import pandas as pd\n",
    "from sklearn.model_selection import train_test_split\n",
    "import matplotlib.pyplot as plt\n",
    "import torch\n",
    "from torch.utils.data import DataLoader, TensorDataset"
   ]
  },
  {
   "cell_type": "code",
   "execution_count": 7,
   "id": "a77fc7ac",
   "metadata": {},
   "outputs": [
    {
     "data": {
      "text/plain": [
       "'E:\\\\to do\\\\pytorch-for-deep-learning-with-python-bootcamp\\\\001 PYTORCH_NOTEBOOKS\\\\PYTORCH_NOTEBOOKS\\\\02-ANN-Artificial-Neural-Networks'"
      ]
     },
     "execution_count": 7,
     "metadata": {},
     "output_type": "execute_result"
    }
   ],
   "source": [
    "pwd"
   ]
  },
  {
   "cell_type": "code",
   "execution_count": 10,
   "id": "d9db495f",
   "metadata": {},
   "outputs": [],
   "source": [
    "df=pd.read_csv('..\\\\Data\\\\iris.csv')"
   ]
  },
  {
   "cell_type": "code",
   "execution_count": 12,
   "id": "ecb4dba0",
   "metadata": {},
   "outputs": [
    {
     "data": {
      "text/html": [
       "<div>\n",
       "<style scoped>\n",
       "    .dataframe tbody tr th:only-of-type {\n",
       "        vertical-align: middle;\n",
       "    }\n",
       "\n",
       "    .dataframe tbody tr th {\n",
       "        vertical-align: top;\n",
       "    }\n",
       "\n",
       "    .dataframe thead th {\n",
       "        text-align: right;\n",
       "    }\n",
       "</style>\n",
       "<table border=\"1\" class=\"dataframe\">\n",
       "  <thead>\n",
       "    <tr style=\"text-align: right;\">\n",
       "      <th></th>\n",
       "      <th>sepal length (cm)</th>\n",
       "      <th>sepal width (cm)</th>\n",
       "      <th>petal length (cm)</th>\n",
       "      <th>petal width (cm)</th>\n",
       "      <th>target</th>\n",
       "    </tr>\n",
       "  </thead>\n",
       "  <tbody>\n",
       "    <tr>\n",
       "      <th>count</th>\n",
       "      <td>150.000000</td>\n",
       "      <td>150.000000</td>\n",
       "      <td>150.000000</td>\n",
       "      <td>150.000000</td>\n",
       "      <td>150.000000</td>\n",
       "    </tr>\n",
       "    <tr>\n",
       "      <th>mean</th>\n",
       "      <td>5.843333</td>\n",
       "      <td>3.054000</td>\n",
       "      <td>3.758667</td>\n",
       "      <td>1.198667</td>\n",
       "      <td>1.000000</td>\n",
       "    </tr>\n",
       "    <tr>\n",
       "      <th>std</th>\n",
       "      <td>0.828066</td>\n",
       "      <td>0.433594</td>\n",
       "      <td>1.764420</td>\n",
       "      <td>0.763161</td>\n",
       "      <td>0.819232</td>\n",
       "    </tr>\n",
       "    <tr>\n",
       "      <th>min</th>\n",
       "      <td>4.300000</td>\n",
       "      <td>2.000000</td>\n",
       "      <td>1.000000</td>\n",
       "      <td>0.100000</td>\n",
       "      <td>0.000000</td>\n",
       "    </tr>\n",
       "    <tr>\n",
       "      <th>25%</th>\n",
       "      <td>5.100000</td>\n",
       "      <td>2.800000</td>\n",
       "      <td>1.600000</td>\n",
       "      <td>0.300000</td>\n",
       "      <td>0.000000</td>\n",
       "    </tr>\n",
       "    <tr>\n",
       "      <th>50%</th>\n",
       "      <td>5.800000</td>\n",
       "      <td>3.000000</td>\n",
       "      <td>4.350000</td>\n",
       "      <td>1.300000</td>\n",
       "      <td>1.000000</td>\n",
       "    </tr>\n",
       "    <tr>\n",
       "      <th>75%</th>\n",
       "      <td>6.400000</td>\n",
       "      <td>3.300000</td>\n",
       "      <td>5.100000</td>\n",
       "      <td>1.800000</td>\n",
       "      <td>2.000000</td>\n",
       "    </tr>\n",
       "    <tr>\n",
       "      <th>max</th>\n",
       "      <td>7.900000</td>\n",
       "      <td>4.400000</td>\n",
       "      <td>6.900000</td>\n",
       "      <td>2.500000</td>\n",
       "      <td>2.000000</td>\n",
       "    </tr>\n",
       "  </tbody>\n",
       "</table>\n",
       "</div>"
      ],
      "text/plain": [
       "       sepal length (cm)  sepal width (cm)  petal length (cm)  \\\n",
       "count         150.000000        150.000000         150.000000   \n",
       "mean            5.843333          3.054000           3.758667   \n",
       "std             0.828066          0.433594           1.764420   \n",
       "min             4.300000          2.000000           1.000000   \n",
       "25%             5.100000          2.800000           1.600000   \n",
       "50%             5.800000          3.000000           4.350000   \n",
       "75%             6.400000          3.300000           5.100000   \n",
       "max             7.900000          4.400000           6.900000   \n",
       "\n",
       "       petal width (cm)      target  \n",
       "count        150.000000  150.000000  \n",
       "mean           1.198667    1.000000  \n",
       "std            0.763161    0.819232  \n",
       "min            0.100000    0.000000  \n",
       "25%            0.300000    0.000000  \n",
       "50%            1.300000    1.000000  \n",
       "75%            1.800000    2.000000  \n",
       "max            2.500000    2.000000  "
      ]
     },
     "execution_count": 12,
     "metadata": {},
     "output_type": "execute_result"
    }
   ],
   "source": [
    "df.describe()"
   ]
  },
  {
   "cell_type": "code",
   "execution_count": 24,
   "id": "7f88ae16",
   "metadata": {},
   "outputs": [],
   "source": [
    "## Extracting the features and labels separately"
   ]
  },
  {
   "cell_type": "code",
   "execution_count": 40,
   "id": "17bfc9c0",
   "metadata": {},
   "outputs": [
    {
     "name": "stdout",
     "output_type": "stream",
     "text": [
      "features type: <class 'numpy.ndarray'>\n",
      "labels type: <class 'numpy.ndarray'>\n"
     ]
    }
   ],
   "source": [
    "features=df.drop('target',axis=1).values\n",
    "labels=df['target'].values\n",
    "print('features type:',type(features))\n",
    "print('labels type:',type(labels))"
   ]
  },
  {
   "cell_type": "markdown",
   "id": "8ba864fa",
   "metadata": {},
   "source": [
    "### Part A. Converting to tensors using train_test_split"
   ]
  },
  {
   "cell_type": "code",
   "execution_count": 35,
   "id": "2967707c",
   "metadata": {},
   "outputs": [],
   "source": [
    "X_train, X_test,y_train,y_test=train_test_split(features,labels,test_size=0.2,shuffle=True)"
   ]
  },
  {
   "cell_type": "code",
   "execution_count": 36,
   "id": "24c1910c",
   "metadata": {},
   "outputs": [],
   "source": [
    "X_train = torch.tensor(X_train).clone().requires_grad_(True)\n",
    "X_test = torch.tensor(X_test).clone().requires_grad_(True)\n",
    "y_train = torch.tensor(y_train, dtype=torch.int32)\n",
    "y_test= torch.tensor(y_test, dtype=torch.int32)"
   ]
  },
  {
   "cell_type": "code",
   "execution_count": 38,
   "id": "986bbda2",
   "metadata": {},
   "outputs": [
    {
     "name": "stdout",
     "output_type": "stream",
     "text": [
      "<class 'torch.Tensor'> torch.int32\n",
      "<class 'torch.Tensor'> torch.float64\n"
     ]
    }
   ],
   "source": [
    "print(type(y_train),y_train.dtype)\n",
    "print(type(X_train),X_train.dtype)"
   ]
  },
  {
   "cell_type": "markdown",
   "id": "be581ac7",
   "metadata": {},
   "source": [
    "### Part B. Converting to tensors using DataLoader"
   ]
  },
  {
   "cell_type": "markdown",
   "id": "d8ffaf66",
   "metadata": {},
   "source": [
    "DataSets and DataLoader allow direct creation of batches for the ANN process. Teh TensorDataset object needs to be created first on which the DataLoader can work on to shuffle and create multiple batches. Hence, we don't need to struggle to create batches and ensure shuffline"
   ]
  },
  {
   "cell_type": "code",
   "execution_count": 47,
   "id": "469afb50",
   "metadata": {},
   "outputs": [],
   "source": [
    "dataset=TensorDataset(torch.tensor(features),torch.tensor(labels,dtype=torch.int32))"
   ]
  },
  {
   "cell_type": "code",
   "execution_count": 49,
   "id": "6f851817",
   "metadata": {},
   "outputs": [],
   "source": [
    "sets=DataLoader(dataset,batch_size=15,shuffle=True)"
   ]
  },
  {
   "cell_type": "code",
   "execution_count": 52,
   "id": "81a705a9",
   "metadata": {},
   "outputs": [
    {
     "name": "stdout",
     "output_type": "stream",
     "text": [
      "Batch: 0, set:[tensor([[5.7000, 2.5000, 5.0000, 2.0000],\n",
      "        [5.6000, 3.0000, 4.5000, 1.5000],\n",
      "        [6.7000, 3.1000, 4.4000, 1.4000],\n",
      "        [5.7000, 2.8000, 4.1000, 1.3000],\n",
      "        [6.5000, 3.0000, 5.2000, 2.0000],\n",
      "        [5.5000, 2.4000, 3.8000, 1.1000],\n",
      "        [7.1000, 3.0000, 5.9000, 2.1000],\n",
      "        [5.6000, 2.9000, 3.6000, 1.3000],\n",
      "        [7.2000, 3.2000, 6.0000, 1.8000],\n",
      "        [5.4000, 3.9000, 1.7000, 0.4000],\n",
      "        [6.5000, 3.0000, 5.5000, 1.8000],\n",
      "        [6.2000, 2.9000, 4.3000, 1.3000],\n",
      "        [6.9000, 3.1000, 5.1000, 2.3000],\n",
      "        [5.1000, 3.8000, 1.5000, 0.3000],\n",
      "        [6.3000, 3.3000, 4.7000, 1.6000]], dtype=torch.float64), tensor([2, 1, 1, 1, 2, 1, 2, 1, 2, 0, 2, 1, 2, 0, 1], dtype=torch.int32)]\n",
      "Batch: 1, set:[tensor([[4.6000, 3.2000, 1.4000, 0.2000],\n",
      "        [7.9000, 3.8000, 6.4000, 2.0000],\n",
      "        [5.8000, 4.0000, 1.2000, 0.2000],\n",
      "        [5.6000, 3.0000, 4.1000, 1.3000],\n",
      "        [5.8000, 2.7000, 5.1000, 1.9000],\n",
      "        [6.3000, 2.7000, 4.9000, 1.8000],\n",
      "        [5.4000, 3.9000, 1.3000, 0.4000],\n",
      "        [6.2000, 2.8000, 4.8000, 1.8000],\n",
      "        [6.7000, 3.3000, 5.7000, 2.1000],\n",
      "        [6.1000, 2.6000, 5.6000, 1.4000],\n",
      "        [6.1000, 3.0000, 4.6000, 1.4000],\n",
      "        [6.6000, 3.0000, 4.4000, 1.4000],\n",
      "        [5.4000, 3.7000, 1.5000, 0.2000],\n",
      "        [6.5000, 3.2000, 5.1000, 2.0000],\n",
      "        [6.8000, 2.8000, 4.8000, 1.4000]], dtype=torch.float64), tensor([0, 2, 0, 1, 2, 2, 0, 2, 2, 2, 1, 1, 0, 2, 1], dtype=torch.int32)]\n",
      "Batch: 2, set:[tensor([[6.3000, 2.9000, 5.6000, 1.8000],\n",
      "        [6.0000, 2.7000, 5.1000, 1.6000],\n",
      "        [5.0000, 3.0000, 1.6000, 0.2000],\n",
      "        [7.7000, 3.0000, 6.1000, 2.3000],\n",
      "        [5.2000, 4.1000, 1.5000, 0.1000],\n",
      "        [6.0000, 3.4000, 4.5000, 1.6000],\n",
      "        [6.0000, 2.2000, 5.0000, 1.5000],\n",
      "        [5.1000, 3.5000, 1.4000, 0.2000],\n",
      "        [5.0000, 3.3000, 1.4000, 0.2000],\n",
      "        [7.0000, 3.2000, 4.7000, 1.4000],\n",
      "        [6.1000, 2.8000, 4.7000, 1.2000],\n",
      "        [4.8000, 3.4000, 1.6000, 0.2000],\n",
      "        [6.4000, 2.9000, 4.3000, 1.3000],\n",
      "        [6.8000, 3.2000, 5.9000, 2.3000],\n",
      "        [5.0000, 3.6000, 1.4000, 0.2000]], dtype=torch.float64), tensor([2, 1, 0, 2, 0, 1, 2, 0, 0, 1, 1, 0, 1, 2, 0], dtype=torch.int32)]\n",
      "Batch: 3, set:[tensor([[4.9000, 2.5000, 4.5000, 1.7000],\n",
      "        [5.1000, 2.5000, 3.0000, 1.1000],\n",
      "        [5.6000, 2.7000, 4.2000, 1.3000],\n",
      "        [7.7000, 2.8000, 6.7000, 2.0000],\n",
      "        [5.7000, 4.4000, 1.5000, 0.4000],\n",
      "        [5.8000, 2.7000, 5.1000, 1.9000],\n",
      "        [6.4000, 2.8000, 5.6000, 2.2000],\n",
      "        [5.5000, 2.4000, 3.7000, 1.0000],\n",
      "        [4.8000, 3.1000, 1.6000, 0.2000],\n",
      "        [5.7000, 2.8000, 4.5000, 1.3000],\n",
      "        [5.5000, 2.5000, 4.0000, 1.3000],\n",
      "        [6.0000, 3.0000, 4.8000, 1.8000],\n",
      "        [7.4000, 2.8000, 6.1000, 1.9000],\n",
      "        [4.9000, 3.1000, 1.5000, 0.1000],\n",
      "        [5.0000, 3.2000, 1.2000, 0.2000]], dtype=torch.float64), tensor([2, 1, 1, 2, 0, 2, 2, 1, 0, 1, 1, 2, 2, 0, 0], dtype=torch.int32)]\n",
      "Batch: 4, set:[tensor([[4.3000, 3.0000, 1.1000, 0.1000],\n",
      "        [5.7000, 2.9000, 4.2000, 1.3000],\n",
      "        [5.1000, 3.7000, 1.5000, 0.4000],\n",
      "        [5.8000, 2.8000, 5.1000, 2.4000],\n",
      "        [6.9000, 3.2000, 5.7000, 2.3000],\n",
      "        [6.2000, 2.2000, 4.5000, 1.5000],\n",
      "        [6.6000, 2.9000, 4.6000, 1.3000],\n",
      "        [6.3000, 2.5000, 4.9000, 1.5000],\n",
      "        [5.1000, 3.5000, 1.4000, 0.3000],\n",
      "        [5.0000, 3.5000, 1.3000, 0.3000],\n",
      "        [5.9000, 3.2000, 4.8000, 1.8000],\n",
      "        [4.4000, 3.2000, 1.3000, 0.2000],\n",
      "        [4.4000, 2.9000, 1.4000, 0.2000],\n",
      "        [4.8000, 3.0000, 1.4000, 0.1000],\n",
      "        [5.5000, 3.5000, 1.3000, 0.2000]], dtype=torch.float64), tensor([0, 1, 0, 2, 2, 1, 1, 1, 0, 0, 1, 0, 0, 0, 0], dtype=torch.int32)]\n",
      "Batch: 5, set:[tensor([[6.3000, 2.8000, 5.1000, 1.5000],\n",
      "        [6.2000, 3.4000, 5.4000, 2.3000],\n",
      "        [6.4000, 3.2000, 4.5000, 1.5000],\n",
      "        [4.6000, 3.4000, 1.4000, 0.3000],\n",
      "        [5.2000, 2.7000, 3.9000, 1.4000],\n",
      "        [4.5000, 2.3000, 1.3000, 0.3000],\n",
      "        [5.4000, 3.4000, 1.7000, 0.2000],\n",
      "        [5.1000, 3.3000, 1.7000, 0.5000],\n",
      "        [6.9000, 3.1000, 5.4000, 2.1000],\n",
      "        [5.2000, 3.5000, 1.5000, 0.2000],\n",
      "        [5.5000, 2.3000, 4.0000, 1.3000],\n",
      "        [5.9000, 3.0000, 5.1000, 1.8000],\n",
      "        [6.4000, 2.7000, 5.3000, 1.9000],\n",
      "        [5.9000, 3.0000, 4.2000, 1.5000],\n",
      "        [4.7000, 3.2000, 1.6000, 0.2000]], dtype=torch.float64), tensor([2, 2, 1, 0, 1, 0, 0, 0, 2, 0, 1, 2, 2, 1, 0], dtype=torch.int32)]\n",
      "Batch: 6, set:[tensor([[5.7000, 2.6000, 3.5000, 1.0000],\n",
      "        [7.7000, 3.8000, 6.7000, 2.2000],\n",
      "        [4.9000, 3.1000, 1.5000, 0.1000],\n",
      "        [5.6000, 2.5000, 3.9000, 1.1000],\n",
      "        [5.8000, 2.6000, 4.0000, 1.2000],\n",
      "        [6.0000, 2.2000, 4.0000, 1.0000],\n",
      "        [4.9000, 3.1000, 1.5000, 0.1000],\n",
      "        [4.7000, 3.2000, 1.3000, 0.2000],\n",
      "        [5.1000, 3.4000, 1.5000, 0.2000],\n",
      "        [5.5000, 2.6000, 4.4000, 1.2000],\n",
      "        [5.1000, 3.8000, 1.9000, 0.4000],\n",
      "        [6.4000, 3.1000, 5.5000, 1.8000],\n",
      "        [5.6000, 2.8000, 4.9000, 2.0000],\n",
      "        [6.7000, 3.1000, 4.7000, 1.5000],\n",
      "        [5.7000, 3.8000, 1.7000, 0.3000]], dtype=torch.float64), tensor([1, 2, 0, 1, 1, 1, 0, 0, 0, 1, 0, 2, 2, 1, 0], dtype=torch.int32)]\n",
      "Batch: 7, set:[tensor([[7.3000, 2.9000, 6.3000, 1.8000],\n",
      "        [6.4000, 2.8000, 5.6000, 2.1000],\n",
      "        [6.7000, 3.3000, 5.7000, 2.5000],\n",
      "        [4.6000, 3.1000, 1.5000, 0.2000],\n",
      "        [5.8000, 2.7000, 4.1000, 1.0000],\n",
      "        [4.4000, 3.0000, 1.3000, 0.2000],\n",
      "        [6.3000, 2.3000, 4.4000, 1.3000],\n",
      "        [6.3000, 2.5000, 5.0000, 1.9000],\n",
      "        [4.8000, 3.4000, 1.9000, 0.2000],\n",
      "        [5.8000, 2.7000, 3.9000, 1.2000],\n",
      "        [5.0000, 3.5000, 1.6000, 0.6000],\n",
      "        [6.3000, 3.3000, 6.0000, 2.5000],\n",
      "        [4.9000, 2.4000, 3.3000, 1.0000],\n",
      "        [6.7000, 2.5000, 5.8000, 1.8000],\n",
      "        [6.4000, 3.2000, 5.3000, 2.3000]], dtype=torch.float64), tensor([2, 2, 2, 0, 1, 0, 1, 2, 0, 1, 0, 2, 1, 2, 2], dtype=torch.int32)]\n",
      "Batch: 8, set:[tensor([[5.2000, 3.4000, 1.4000, 0.2000],\n",
      "        [5.1000, 3.8000, 1.6000, 0.2000],\n",
      "        [5.4000, 3.4000, 1.5000, 0.4000],\n",
      "        [5.0000, 3.4000, 1.5000, 0.2000],\n",
      "        [6.1000, 3.0000, 4.9000, 1.8000],\n",
      "        [5.0000, 3.4000, 1.6000, 0.4000],\n",
      "        [6.7000, 3.0000, 5.0000, 1.7000],\n",
      "        [7.6000, 3.0000, 6.6000, 2.1000],\n",
      "        [6.8000, 3.0000, 5.5000, 2.1000],\n",
      "        [7.7000, 2.6000, 6.9000, 2.3000],\n",
      "        [5.4000, 3.0000, 4.5000, 1.5000],\n",
      "        [5.0000, 2.0000, 3.5000, 1.0000],\n",
      "        [6.3000, 3.4000, 5.6000, 2.4000],\n",
      "        [6.7000, 3.0000, 5.2000, 2.3000],\n",
      "        [5.5000, 4.2000, 1.4000, 0.2000]], dtype=torch.float64), tensor([0, 0, 0, 0, 2, 0, 1, 2, 2, 2, 1, 1, 2, 2, 0], dtype=torch.int32)]\n",
      "Batch: 9, set:[tensor([[4.8000, 3.0000, 1.4000, 0.3000],\n",
      "        [5.7000, 3.0000, 4.2000, 1.2000],\n",
      "        [6.0000, 2.9000, 4.5000, 1.5000],\n",
      "        [7.2000, 3.6000, 6.1000, 2.5000],\n",
      "        [6.1000, 2.8000, 4.0000, 1.3000],\n",
      "        [4.9000, 3.0000, 1.4000, 0.2000],\n",
      "        [6.5000, 3.0000, 5.8000, 2.2000],\n",
      "        [6.5000, 2.8000, 4.6000, 1.5000],\n",
      "        [6.1000, 2.9000, 4.7000, 1.4000],\n",
      "        [4.6000, 3.6000, 1.0000, 0.2000],\n",
      "        [5.3000, 3.7000, 1.5000, 0.2000],\n",
      "        [5.0000, 2.3000, 3.3000, 1.0000],\n",
      "        [6.9000, 3.1000, 4.9000, 1.5000],\n",
      "        [7.2000, 3.0000, 5.8000, 1.6000],\n",
      "        [6.7000, 3.1000, 5.6000, 2.4000]], dtype=torch.float64), tensor([0, 1, 1, 2, 1, 0, 2, 1, 1, 0, 0, 1, 1, 2, 2], dtype=torch.int32)]\n"
     ]
    }
   ],
   "source": [
    "for i ,set1 in enumerate(sets):\n",
    "    print('Batch: {}, set:{}'.format(i, set1))"
   ]
  }
 ],
 "metadata": {
  "kernelspec": {
   "display_name": "Python 3",
   "language": "python",
   "name": "python3"
  },
  "language_info": {
   "codemirror_mode": {
    "name": "ipython",
    "version": 3
   },
   "file_extension": ".py",
   "mimetype": "text/x-python",
   "name": "python",
   "nbconvert_exporter": "python",
   "pygments_lexer": "ipython3",
   "version": "3.7.7"
  }
 },
 "nbformat": 4,
 "nbformat_minor": 5
}
