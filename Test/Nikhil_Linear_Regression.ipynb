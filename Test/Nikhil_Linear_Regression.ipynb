{
 "cells": [
  {
   "cell_type": "code",
   "execution_count": 1,
   "id": "3a16208b",
   "metadata": {},
   "outputs": [],
   "source": [
    "import torch\n",
    "import torch.nn as nn\n",
    "import numpy as np\n",
    "import matplotlib.pyplot as plt"
   ]
  },
  {
   "cell_type": "code",
   "execution_count": 2,
   "id": "c560d5b0",
   "metadata": {},
   "outputs": [],
   "source": [
    "### Create the dataset"
   ]
  },
  {
   "cell_type": "code",
   "execution_count": 3,
   "id": "5f038a85",
   "metadata": {},
   "outputs": [
    {
     "data": {
      "text/plain": [
       "torch.Size([50, 1])"
      ]
     },
     "execution_count": 3,
     "metadata": {},
     "output_type": "execute_result"
    }
   ],
   "source": [
    "#Input data\n",
    "X = torch.linspace(1,50,50).reshape((-1,1))\n",
    "X.shape"
   ]
  },
  {
   "cell_type": "code",
   "execution_count": 4,
   "id": "3dcc24f5",
   "metadata": {},
   "outputs": [],
   "source": [
    "#Generate noise to add to the output\n",
    "torch.manual_seed(71)\n",
    "e=torch.randint(-8,9,(1,50)).reshape(50,-1).type(torch.float32)"
   ]
  },
  {
   "cell_type": "code",
   "execution_count": 5,
   "id": "d6ffc37d",
   "metadata": {},
   "outputs": [],
   "source": [
    "#Output training data to include noise\n",
    "y=2*X+1+e"
   ]
  },
  {
   "cell_type": "code",
   "execution_count": 6,
   "id": "80976988",
   "metadata": {},
   "outputs": [
    {
     "data": {
      "text/plain": [
       "<matplotlib.collections.PathCollection at 0x156f597f608>"
      ]
     },
     "execution_count": 6,
     "metadata": {},
     "output_type": "execute_result"
    },
    {
     "data": {
      "image/png": "[encoded data removed]",
      "text/plain": [
       "<Figure size 432x288 with 1 Axes>"
      ]
     },
     "metadata": {
      "needs_background": "light"
     },
     "output_type": "display_data"
    }
   ],
   "source": [
    "plt.scatter(X.numpy(),y.numpy())"
   ]
  },
  {
   "cell_type": "markdown",
   "id": "a9b3ac3f",
   "metadata": {},
   "source": [
    "### Building the model"
   ]
  },
  {
   "cell_type": "markdown",
   "id": "cfd3a611",
   "metadata": {},
   "source": [
    "#### A. Simple non-class based model to assess non-learning weights"
   ]
  },
  {
   "cell_type": "code",
   "execution_count": 7,
   "id": "28ce33a5",
   "metadata": {},
   "outputs": [
    {
     "name": "stdout",
     "output_type": "stream",
     "text": [
      "Parameter containing:\n",
      "tensor([[0.1060]], requires_grad=True)\n",
      "Parameter containing:\n",
      "tensor([0.9638], requires_grad=True)\n"
     ]
    }
   ],
   "source": [
    "torch.manual_seed(59)\n",
    "lin_model=nn.Linear(1,1)\n",
    "print(lin_model.weight)\n",
    "print(lin_model.bias)"
   ]
  },
  {
   "cell_type": "code",
   "execution_count": 8,
   "id": "37ab1152",
   "metadata": {},
   "outputs": [
    {
     "name": "stdout",
     "output_type": "stream",
     "text": [
      "weight 0.10597813129425049\n",
      "bias 0.9637961387634277\n"
     ]
    }
   ],
   "source": [
    "for name,param in lin_model.named_parameters():\n",
    "    print(name , param.item())"
   ]
  },
  {
   "cell_type": "code",
   "execution_count": 9,
   "id": "0e832f06",
   "metadata": {},
   "outputs": [],
   "source": [
    "y_pred=lin_model.weight.item()*X+lin_model.bias.item()"
   ]
  },
  {
   "cell_type": "code",
   "execution_count": 10,
   "id": "062e6fec",
   "metadata": {},
   "outputs": [
    {
     "data": {
      "text/plain": [
       "torch.Size([50, 1])"
      ]
     },
     "execution_count": 10,
     "metadata": {},
     "output_type": "execute_result"
    },
    {
     "data": {
      "image/png": "[encoded data removed]",
      "text/plain": [
       "<Figure size 432x288 with 1 Axes>"
      ]
     },
     "metadata": {
      "needs_background": "light"
     },
     "output_type": "display_data"
    }
   ],
   "source": [
    "#Compare unlearnt y_pred (blue) against expected y (red)\n",
    "plt.scatter(np.linspace(1,50,50),y_pred.numpy())\n",
    "plt.plot(np.linspace(1,50,50),y.numpy(),'r')\n",
    "y.shape"
   ]
  },
  {
   "cell_type": "markdown",
   "id": "60d38ef5",
   "metadata": {},
   "source": [
    "#### B. Building the complete learning model\n",
    "1. Build the Model class with attributes, the Linear class and the forward function\n",
    "2. Initiate the loss function\n",
    "3. Initiate the optimizer function\n",
    "4. For 'n' number of epochs, run the full model\n",
    "5. Create a train function that automates (4)"
   ]
  },
  {
   "cell_type": "code",
   "execution_count": 11,
   "id": "c07a0cf4",
   "metadata": {},
   "outputs": [],
   "source": [
    "#1. Build the Model class with attributes, the Linear class and the forward function\n",
    "class LinModel(nn.Module):\n",
    "    def __init__(self, input_features, output_features):\n",
    "        super().__init__()\n",
    "        self.input_features=input_features\n",
    "        self.output_features=output_features\n",
    "        self.linear=nn.Linear(input_features,output_features)\n",
    "    \n",
    "    def forward(self,X):\n",
    "        y_pred=self.linear(X)\n",
    "        return y_pred"
   ]
  },
  {
   "cell_type": "code",
   "execution_count": 12,
   "id": "79bf9dd8",
   "metadata": {},
   "outputs": [
    {
     "name": "stdout",
     "output_type": "stream",
     "text": [
      "LinModel(\n",
      "  (linear): Linear(in_features=1, out_features=1, bias=True)\n",
      ")\n",
      "Weight:  0.10597813129425049\n",
      "Bias:  0.9637961387634277\n"
     ]
    }
   ],
   "source": [
    "#Instantiate object of Model class\n",
    "torch.manual_seed(59)\n",
    "model=LinModel(1,1)\n",
    "print(model)\n",
    "print('Weight: ',model.linear.weight.item())\n",
    "print('Bias: ',model.linear.bias.item())"
   ]
  },
  {
   "cell_type": "code",
   "execution_count": 13,
   "id": "55fddb9b",
   "metadata": {},
   "outputs": [],
   "source": [
    "#2. Initiate loss function\n",
    "criterion=nn.MSELoss()"
   ]
  },
  {
   "cell_type": "code",
   "execution_count": 14,
   "id": "299157db",
   "metadata": {},
   "outputs": [],
   "source": [
    "#3. Initiate optimizer function\n",
    "optimizer=torch.optim.SGD(model.parameters(),lr=0.001)"
   ]
  },
  {
   "cell_type": "markdown",
   "id": "5430b32c",
   "metadata": {},
   "source": [
    "#4. Putting it all together\n",
    "epochs=50\n",
    "losses=[]\n",
    "for e in range(epochs):\n",
    "    e+=1\n",
    "    y_pred=model.forward(X)\n",
    "    loss=criterion(y_pred,y)\n",
    "    \n",
    "    losses.append(loss)\n",
    "    \n",
    "    optimizer.zero_grad()\n",
    "    loss.backward(retain_graph=True)\n",
    "    optimizer.step()\n",
    "    print('for epoch {}, the loss is {}, the weights are {} and the bias is {}'.format(e,loss,model.linear.weight.item(),model.linear.bias.item()))"
   ]
  },
  {
   "cell_type": "markdown",
   "id": "b58a15c7",
   "metadata": {},
   "source": [
    "#Reviewing loss movement\n",
    "plt.plot(range(e),losses)"
   ]
  },
  {
   "cell_type": "markdown",
   "id": "3b81c25a",
   "metadata": {},
   "source": [
    "#Calculating the predicted values based on model weights\n",
    "y_pred2=model.linear.weight.item()*X + model.linear.bias.item()"
   ]
  },
  {
   "cell_type": "markdown",
   "id": "185fbf6b",
   "metadata": {},
   "source": [
    "#Plotting actual vs. predicted\n",
    "plt.scatter(X,y_pred2)\n",
    "plt.plot(X,y,'r')"
   ]
  },
  {
   "cell_type": "code",
   "execution_count": 15,
   "id": "c54a4cfa",
   "metadata": {},
   "outputs": [],
   "source": [
    "# 5. Automate 4 into a single function\n",
    "def train(X,y,model,epochs, optimizer,criterion):\n",
    "    losses=[]\n",
    "    for e in range(epochs):\n",
    "        y_pred=model.forward(X)\n",
    "        loss=criterion(y_pred,y)\n",
    "        losses.append(loss)\n",
    "        if e%5==0:\n",
    "            print('Loss for epoch {} is {} and the weight is {} and the bias is {}'.format(e,loss,model.linear.weight.item(),model.linear.bias.item()))\n",
    "        optimizer.zero_grad()\n",
    "        loss.backward()\n",
    "        optimizer.step()\n",
    "    return losses,model.linear.weight.item(),model.linear.bias.item() \n",
    "    "
   ]
  },
  {
   "cell_type": "code",
   "execution_count": 16,
   "id": "16eb3ab1",
   "metadata": {},
   "outputs": [],
   "source": [
    "# epochs=50\n",
    "# result=train(X,y,model,epochs,optimizer,criterion)"
   ]
  },
  {
   "cell_type": "code",
   "execution_count": 17,
   "id": "4ccd4c85",
   "metadata": {},
   "outputs": [],
   "source": [
    "# losses,weights,bias=result"
   ]
  },
  {
   "cell_type": "code",
   "execution_count": 18,
   "id": "48c42a08",
   "metadata": {},
   "outputs": [],
   "source": [
    "# y_pred3=weights*X+bias\n",
    "# print(type(y_pred3))"
   ]
  },
  {
   "cell_type": "code",
   "execution_count": 19,
   "id": "74cf7f29",
   "metadata": {},
   "outputs": [],
   "source": [
    "# plt.scatter(X,y_pred3)\n",
    "# #plt.plot(X,y_pred2,'g')\n",
    "# plt.plot(X,y,'r')"
   ]
  },
  {
   "cell_type": "code",
   "execution_count": 20,
   "id": "b79db2e5",
   "metadata": {},
   "outputs": [],
   "source": [
    "def review_test(X,y,result,epochs):\n",
    "    losses=result[0]\n",
    "    weight=result[1]\n",
    "    bias=result[2]\n",
    "    plt.plot(range(epochs),losses)\n",
    "    plt.ylabel('Loss')\n",
    "    plt.xlabel('epoch')\n",
    "    plt.show()\n",
    "    \n",
    "    y_pred=weight*X+bias\n",
    "    plt.plot(X,y,'r')\n",
    "    plt.scatter(X,y_pred)\n",
    "    plt.show()"
   ]
  },
  {
   "cell_type": "code",
   "execution_count": 21,
   "id": "7de91ef7",
   "metadata": {},
   "outputs": [],
   "source": [
    "#review_test(X,y,result,epochs)"
   ]
  },
  {
   "cell_type": "code",
   "execution_count": 22,
   "id": "30d53ffe",
   "metadata": {},
   "outputs": [],
   "source": [
    "def run(X,y,model,epochs,optimizer,criterion):\n",
    "    result=train(X,y,model,epochs,optimizer,criterion)\n",
    "    review_test(X,y,result,epochs)\n",
    "    return result[1],result[2]"
   ]
  },
  {
   "cell_type": "code",
   "execution_count": 23,
   "id": "fef801e8",
   "metadata": {},
   "outputs": [
    {
     "name": "stdout",
     "output_type": "stream",
     "text": [
      "Loss for epoch 0 is 3057.216796875 and the weight is 0.10597813129425049 and the bias is 0.9637961387634277\n",
      "Loss for epoch 5 is 132.4291229248047 and the weight is 2.3446059226989746 and the bias is 1.0339646339416504\n",
      "Loss for epoch 10 is 25.162382125854492 and the weight is 1.9157683849334717 and the bias is 1.0248701572418213\n",
      "Loss for epoch 15 is 21.22591781616211 and the weight is 1.997764229774475 and the bias is 1.030944585800171\n",
      "Loss for epoch 20 is 21.07901382446289 and the weight is 1.981933355331421 and the bias is 1.034103512763977\n",
      "Loss for epoch 25 is 21.07110595703125 and the weight is 1.9848365783691406 and the bias is 1.037810206413269\n",
      "Loss for epoch 30 is 21.068307876586914 and the weight is 1.984152913093567 and the bias is 1.0414016246795654\n",
      "Loss for epoch 35 is 21.06570816040039 and the weight is 1.9841564893722534 and the bias is 1.0450047254562378\n",
      "Loss for epoch 40 is 21.063125610351562 and the weight is 1.984028697013855 and the bias is 1.0485951900482178\n",
      "Loss for epoch 45 is 21.06055450439453 and the weight is 1.9839262962341309 and the bias is 1.0521777868270874\n"
     ]
    },
    {
     "data": {
      "image/png": "[encoded data removed]",
      "text/plain": [
       "<Figure size 432x288 with 1 Axes>"
      ]
     },
     "metadata": {
      "needs_background": "light"
     },
     "output_type": "display_data"
    },
    {
     "data": {
      "image/png": "[encoded data removed]",
      "text/plain": [
       "<Figure size 432x288 with 1 Axes>"
      ]
     },
     "metadata": {
      "needs_background": "light"
     },
     "output_type": "display_data"
    },
    {
     "data": {
      "text/plain": [
       "(1.9838191270828247, 1.0557515621185303)"
      ]
     },
     "execution_count": 23,
     "metadata": {},
     "output_type": "execute_result"
    }
   ],
   "source": [
    "epochs=50\n",
    "run(X,y,model,epochs,optimizer,criterion)"
   ]
  }
 ],
 "metadata": {
  "kernelspec": {
   "display_name": "Python 3",
   "language": "python",
   "name": "python3"
  },
  "language_info": {
   "codemirror_mode": {
    "name": "ipython",
    "version": 3
   },
   "file_extension": ".py",
   "mimetype": "text/x-python",
   "name": "python",
   "nbconvert_exporter": "python",
   "pygments_lexer": "ipython3",
   "version": "3.7.7"
  }
 },
 "nbformat": 4,
 "nbformat_minor": 5
}
