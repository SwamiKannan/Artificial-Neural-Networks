{
 "cells": [
  {
   "cell_type": "code",
   "execution_count": 89,
   "id": "ebc70224",
   "metadata": {},
   "outputs": [],
   "source": [
    "import torch\n",
    "import numpy as np"
   ]
  },
  {
   "cell_type": "markdown",
   "id": "58c32b1e",
   "metadata": {},
   "source": [
    "### Creating data:\n",
    "1. x requires_grad=True\n",
    "2. y requires_grad=False"
   ]
  },
  {
   "cell_type": "code",
   "execution_count": 90,
   "id": "09ed0a92",
   "metadata": {},
   "outputs": [
    {
     "data": {
      "text/plain": [
       "tensor([[1., 2., 3.],\n",
       "        [4., 5., 6.],\n",
       "        [1., 2., 3.]], requires_grad=True)"
      ]
     },
     "execution_count": 90,
     "metadata": {},
     "output_type": "execute_result"
    }
   ],
   "source": [
    "x= torch.tensor([[1,2,3],[4,5,6],[1,2,3]],dtype=torch.float32,requires_grad=True)\n",
    "x"
   ]
  },
  {
   "cell_type": "code",
   "execution_count": 91,
   "id": "cc86df00",
   "metadata": {},
   "outputs": [
    {
     "data": {
      "text/plain": [
       "tensor([[1., 2., 3.],\n",
       "        [1., 2., 3.],\n",
       "        [1., 2., 3.]])"
      ]
     },
     "execution_count": 91,
     "metadata": {},
     "output_type": "execute_result"
    }
   ],
   "source": [
    "y=torch.tensor([[1,2,3],[1,2,3],[1,2,3]],dtype=torch.float32,requires_grad=False)\n",
    "y"
   ]
  },
  {
   "cell_type": "markdown",
   "id": "54c84661",
   "metadata": {},
   "source": [
    "### Building the forward path\n",
    "Retaining grads for the first layer but not for second layer"
   ]
  },
  {
   "cell_type": "code",
   "execution_count": 92,
   "id": "4aa58fae",
   "metadata": {},
   "outputs": [],
   "source": [
    "w=x.mm(y) +x**3+3*x**2+2*x\n",
    "w.retain_grad() #Forcing the layer to maintain the gradients of w\n"
   ]
  },
  {
   "cell_type": "code",
   "execution_count": 93,
   "id": "a4039133",
   "metadata": {},
   "outputs": [],
   "source": [
    "z= w**2+2*w #no requires_grad() so no maintaining of gradients for w"
   ]
  },
  {
   "cell_type": "code",
   "execution_count": 94,
   "id": "02f8f854",
   "metadata": {},
   "outputs": [
    {
     "data": {
      "text/plain": [
       "tensor(26450., grad_fn=<MeanBackward0>)"
      ]
     },
     "execution_count": 94,
     "metadata": {},
     "output_type": "execute_result"
    }
   ],
   "source": [
    "out=z.mean()\n",
    "out"
   ]
  },
  {
   "cell_type": "markdown",
   "id": "d35193ce",
   "metadata": {},
   "source": [
    "### Backward propogation"
   ]
  },
  {
   "cell_type": "code",
   "execution_count": 95,
   "id": "30383be7",
   "metadata": {},
   "outputs": [],
   "source": [
    "out.backward(retain_graph=True)"
   ]
  },
  {
   "cell_type": "code",
   "execution_count": 96,
   "id": "9ff0b0a5",
   "metadata": {},
   "outputs": [
    {
     "name": "stdout",
     "output_type": "stream",
     "text": [
      "None\n"
     ]
    }
   ],
   "source": [
    "print(y.grad)"
   ]
  },
  {
   "cell_type": "markdown",
   "id": "d1cb4ef1",
   "metadata": {},
   "source": [
    "### Checking the gradients at every node i.e. x.grad is dout/dx; w.grad=dout/dw"
   ]
  },
  {
   "cell_type": "code",
   "execution_count": 98,
   "id": "0510ff7f",
   "metadata": {},
   "outputs": [
    {
     "data": {
      "text/plain": [
       "tensor([[  103.7778,   285.7778,   897.1111],\n",
       "        [ 2628.4443,  6122.4443, 12785.7773],\n",
       "        [  103.7778,   285.7778,   897.1111]])"
      ]
     },
     "execution_count": 98,
     "metadata": {},
     "output_type": "execute_result"
    }
   ],
   "source": [
    "x.grad"
   ]
  },
  {
   "cell_type": "code",
   "execution_count": 99,
   "id": "c9396e48",
   "metadata": {},
   "outputs": [
    {
     "data": {
      "text/plain": [
       "tensor([[ 2.8889,  8.2222, 17.5556],\n",
       "        [30.2222, 53.5556, 84.8889],\n",
       "        [ 2.8889,  8.2222, 17.5556]])"
      ]
     },
     "execution_count": 99,
     "metadata": {},
     "output_type": "execute_result"
    }
   ],
   "source": [
    "w.grad"
   ]
  },
  {
   "cell_type": "code",
   "execution_count": 100,
   "id": "2c3fe01a",
   "metadata": {},
   "outputs": [
    {
     "name": "stdout",
     "output_type": "stream",
     "text": [
      "None\n"
     ]
    }
   ],
   "source": [
    "print(y.grad) #y.grad returns a None object because we set requires_grad() to False. So it returns a None object"
   ]
  },
  {
   "cell_type": "code",
   "execution_count": 101,
   "id": "cf0db77a",
   "metadata": {},
   "outputs": [
    {
     "name": "stderr",
     "output_type": "stream",
     "text": [
      "E:\\Python\\lib\\site-packages\\ipykernel_launcher.py:1: UserWarning: The .grad attribute of a Tensor that is not a leaf Tensor is being accessed. Its .grad attribute won't be populated during autograd.backward(). If you indeed want the gradient for a non-leaf Tensor, use .retain_grad() on the non-leaf Tensor. If you access the non-leaf Tensor by mistake, make sure you access the leaf Tensor instead. See github.com/pytorch/pytorch/pull/30531 for more informations.\n",
      "  \"\"\"Entry point for launching an IPython kernel.\n"
     ]
    }
   ],
   "source": [
    "z.grad #For z, we did not set retain grad(). Hence, it does not store do/dz i.e. z.grad"
   ]
  },
  {
   "cell_type": "markdown",
   "id": "a8b236c4",
   "metadata": {},
   "source": [
    "#### On initiating backward(), we also need to pass the parameter (retain_graph=True). Else if we retry the backprop, it will not have the details"
   ]
  }
 ],
 "metadata": {
  "kernelspec": {
   "display_name": "Python 3",
   "language": "python",
   "name": "python3"
  },
  "language_info": {
   "codemirror_mode": {
    "name": "ipython",
    "version": 3
   },
   "file_extension": ".py",
   "mimetype": "text/x-python",
   "name": "python",
   "nbconvert_exporter": "python",
   "pygments_lexer": "ipython3",
   "version": "3.7.7"
  }
 },
 "nbformat": 4,
 "nbformat_minor": 5
}
